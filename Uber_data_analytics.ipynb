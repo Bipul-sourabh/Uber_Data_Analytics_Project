{
 "cells": [
  {
   "cell_type": "code",
   "execution_count": 11,
   "id": "4e99f7d4-ecec-4ab9-a1e9-9017812ad4e5",
   "metadata": {},
   "outputs": [],
   "source": [
    "import numpy as np\n",
    "import pandas as pd\n",
    "import matplotlib.pyplot as plt\n",
    "import seaborn as sns"
   ]
  },
  {
   "cell_type": "code",
   "execution_count": 3,
   "id": "aad5bd6c-108a-47a7-b5bc-f675bf0aa42e",
   "metadata": {},
   "outputs": [],
   "source": [
    "Uber=pd.read_csv(\"uber_rides_dataset.csv\")"
   ]
  },
  {
   "cell_type": "code",
   "execution_count": 15,
   "id": "7465bada-eb9c-4a6c-a9cf-ce2278ee2a90",
   "metadata": {},
   "outputs": [
    {
     "data": {
      "text/html": [
       "<div>\n",
       "<style scoped>\n",
       "    .dataframe tbody tr th:only-of-type {\n",
       "        vertical-align: middle;\n",
       "    }\n",
       "\n",
       "    .dataframe tbody tr th {\n",
       "        vertical-align: top;\n",
       "    }\n",
       "\n",
       "    .dataframe thead th {\n",
       "        text-align: right;\n",
       "    }\n",
       "</style>\n",
       "<table border=\"1\" class=\"dataframe\">\n",
       "  <thead>\n",
       "    <tr style=\"text-align: right;\">\n",
       "      <th></th>\n",
       "      <th>START_DATE</th>\n",
       "      <th>END_DATE</th>\n",
       "      <th>CATEGORY</th>\n",
       "      <th>START</th>\n",
       "      <th>STOP</th>\n",
       "      <th>MILES</th>\n",
       "      <th>PURPOSE</th>\n",
       "    </tr>\n",
       "  </thead>\n",
       "  <tbody>\n",
       "    <tr>\n",
       "      <th>0</th>\n",
       "      <td>25-02-2016 04:26</td>\n",
       "      <td>02-03-2016 00:32</td>\n",
       "      <td>Business</td>\n",
       "      <td>San Francisco</td>\n",
       "      <td>Los Angeles</td>\n",
       "      <td>45.15</td>\n",
       "      <td>Errand</td>\n",
       "    </tr>\n",
       "    <tr>\n",
       "      <th>1</th>\n",
       "      <td>22-12-2016 07:30</td>\n",
       "      <td>28-03-2016 05:07</td>\n",
       "      <td>Personal</td>\n",
       "      <td>Chicago</td>\n",
       "      <td>Boston</td>\n",
       "      <td>41.70</td>\n",
       "      <td>Other</td>\n",
       "    </tr>\n",
       "    <tr>\n",
       "      <th>2</th>\n",
       "      <td>16-07-2016 07:36</td>\n",
       "      <td>22-03-2016 19:11</td>\n",
       "      <td>Business</td>\n",
       "      <td>San Francisco</td>\n",
       "      <td>New York</td>\n",
       "      <td>36.51</td>\n",
       "      <td>Meeting</td>\n",
       "    </tr>\n",
       "    <tr>\n",
       "      <th>3</th>\n",
       "      <td>13-12-2016 23:24</td>\n",
       "      <td>27-11-2016 09:12</td>\n",
       "      <td>Business</td>\n",
       "      <td>San Francisco</td>\n",
       "      <td>San Francisco</td>\n",
       "      <td>33.20</td>\n",
       "      <td>Meal</td>\n",
       "    </tr>\n",
       "    <tr>\n",
       "      <th>4</th>\n",
       "      <td>21-06-2016 09:38</td>\n",
       "      <td>06-06-2016 05:12</td>\n",
       "      <td>Business</td>\n",
       "      <td>Boston</td>\n",
       "      <td>New York</td>\n",
       "      <td>10.99</td>\n",
       "      <td>Meal</td>\n",
       "    </tr>\n",
       "  </tbody>\n",
       "</table>\n",
       "</div>"
      ],
      "text/plain": [
       "         START_DATE          END_DATE  CATEGORY          START           STOP  \\\n",
       "0  25-02-2016 04:26  02-03-2016 00:32  Business  San Francisco    Los Angeles   \n",
       "1  22-12-2016 07:30  28-03-2016 05:07  Personal        Chicago         Boston   \n",
       "2  16-07-2016 07:36  22-03-2016 19:11  Business  San Francisco       New York   \n",
       "3  13-12-2016 23:24  27-11-2016 09:12  Business  San Francisco  San Francisco   \n",
       "4  21-06-2016 09:38  06-06-2016 05:12  Business         Boston       New York   \n",
       "\n",
       "   MILES  PURPOSE  \n",
       "0  45.15   Errand  \n",
       "1  41.70    Other  \n",
       "2  36.51  Meeting  \n",
       "3  33.20     Meal  \n",
       "4  10.99     Meal  "
      ]
     },
     "execution_count": 15,
     "metadata": {},
     "output_type": "execute_result"
    }
   ],
   "source": [
    "Uber.head()\n"
   ]
  },
  {
   "cell_type": "code",
   "execution_count": 7,
   "id": "5e8222ed-4110-4b9d-a514-b8bdc9cce388",
   "metadata": {},
   "outputs": [
    {
     "data": {
      "text/plain": [
       "(1156, 7)"
      ]
     },
     "execution_count": 7,
     "metadata": {},
     "output_type": "execute_result"
    }
   ],
   "source": [
    "Uber.shape"
   ]
  },
  {
   "cell_type": "code",
   "execution_count": 9,
   "id": "9b64c3df-2859-44c1-9bda-393280abba02",
   "metadata": {},
   "outputs": [
    {
     "name": "stdout",
     "output_type": "stream",
     "text": [
      "<class 'pandas.core.frame.DataFrame'>\n",
      "RangeIndex: 1156 entries, 0 to 1155\n",
      "Data columns (total 7 columns):\n",
      " #   Column      Non-Null Count  Dtype  \n",
      "---  ------      --------------  -----  \n",
      " 0   START_DATE  1156 non-null   object \n",
      " 1   END_DATE    1156 non-null   object \n",
      " 2   CATEGORY    1155 non-null   object \n",
      " 3   START       1155 non-null   object \n",
      " 4   STOP        1155 non-null   object \n",
      " 5   MILES       1156 non-null   float64\n",
      " 6   PURPOSE     653 non-null    object \n",
      "dtypes: float64(1), object(6)\n",
      "memory usage: 63.3+ KB\n"
     ]
    }
   ],
   "source": [
    "Uber.info()"
   ]
  },
  {
   "cell_type": "markdown",
   "id": "972d3558-9d6d-4075-8ec7-6eb7f976f47b",
   "metadata": {},
   "source": [
    "# Data preprocessing"
   ]
  },
  {
   "cell_type": "code",
   "execution_count": 11,
   "id": "cfae1bd8-1dc5-4345-aaa0-9a1e8f2cb406",
   "metadata": {},
   "outputs": [
    {
     "name": "stderr",
     "output_type": "stream",
     "text": [
      "C:\\Users\\ASUS\\AppData\\Local\\Temp\\ipykernel_20872\\2858148041.py:1: FutureWarning: A value is trying to be set on a copy of a DataFrame or Series through chained assignment using an inplace method.\n",
      "The behavior will change in pandas 3.0. This inplace method will never work because the intermediate object on which we are setting values always behaves as a copy.\n",
      "\n",
      "For example, when doing 'df[col].method(value, inplace=True)', try using 'df.method({col: value}, inplace=True)' or df[col] = df[col].method(value) instead, to perform the operation inplace on the original object.\n",
      "\n",
      "\n",
      "  Uber[\"PURPOSE\"].fillna(\"NOT\",inplace=True)\n"
     ]
    }
   ],
   "source": [
    "Uber[\"PURPOSE\"].fillna(\"NOT\",inplace=True)"
   ]
  },
  {
   "cell_type": "code",
   "execution_count": 52,
   "id": "929af008-02fb-409f-a101-36bd96147656",
   "metadata": {},
   "outputs": [
    {
     "data": {
      "text/html": [
       "<div>\n",
       "<style scoped>\n",
       "    .dataframe tbody tr th:only-of-type {\n",
       "        vertical-align: middle;\n",
       "    }\n",
       "\n",
       "    .dataframe tbody tr th {\n",
       "        vertical-align: top;\n",
       "    }\n",
       "\n",
       "    .dataframe thead th {\n",
       "        text-align: right;\n",
       "    }\n",
       "</style>\n",
       "<table border=\"1\" class=\"dataframe\">\n",
       "  <thead>\n",
       "    <tr style=\"text-align: right;\">\n",
       "      <th></th>\n",
       "      <th>START_DATE</th>\n",
       "      <th>END_DATE</th>\n",
       "      <th>CATEGORY</th>\n",
       "      <th>START</th>\n",
       "      <th>STOP</th>\n",
       "      <th>MILES</th>\n",
       "      <th>PURPOSE</th>\n",
       "      <th>DATE</th>\n",
       "      <th>TIME</th>\n",
       "      <th>HOURS</th>\n",
       "      <th>SHIFT</th>\n",
       "    </tr>\n",
       "  </thead>\n",
       "  <tbody>\n",
       "  </tbody>\n",
       "</table>\n",
       "</div>"
      ],
      "text/plain": [
       "Empty DataFrame\n",
       "Columns: [START_DATE, END_DATE, CATEGORY, START, STOP, MILES, PURPOSE, DATE, TIME, HOURS, SHIFT]\n",
       "Index: []"
      ]
     },
     "execution_count": 52,
     "metadata": {},
     "output_type": "execute_result"
    }
   ],
   "source": [
    "mask = Uber['PURPOSE'] == \"NOT\"\n",
    "NEW = Uber[mask]\n",
    "NEW\n"
   ]
  },
  {
   "cell_type": "code",
   "execution_count": 11,
   "id": "528f27fb-ffe8-4fb8-b98a-b7909382f21f",
   "metadata": {},
   "outputs": [
    {
     "name": "stderr",
     "output_type": "stream",
     "text": [
      "C:\\Users\\ASUS\\AppData\\Local\\Temp\\ipykernel_18308\\3994242957.py:2: UserWarning: Parsing dates in %d-%m-%Y %H:%M format when dayfirst=False (the default) was specified. Pass `dayfirst=True` or specify a format to silence this warning.\n",
      "  Uber[\"START_DATE\"] = pd.to_datetime(Uber[\"START_DATE\"], errors='coerce')\n"
     ]
    }
   ],
   "source": [
    "# here we are converting object datatype into date_time format..\n",
    "Uber[\"START_DATE\"] = pd.to_datetime(Uber[\"START_DATE\"], errors='coerce')\n",
    "Uber[\"END_DATE\"] = pd.to_datetime(Uber[\"END_DATE\"], errors='coerce')"
   ]
  },
  {
   "cell_type": "code",
   "execution_count": 15,
   "id": "2d422d6f-4039-4698-9517-25ee51ebcebb",
   "metadata": {},
   "outputs": [
    {
     "name": "stdout",
     "output_type": "stream",
     "text": [
      "<class 'pandas.core.frame.DataFrame'>\n",
      "RangeIndex: 1156 entries, 0 to 1155\n",
      "Data columns (total 7 columns):\n",
      " #   Column      Non-Null Count  Dtype         \n",
      "---  ------      --------------  -----         \n",
      " 0   START_DATE  1156 non-null   datetime64[ns]\n",
      " 1   END_DATE    477 non-null    datetime64[ns]\n",
      " 2   CATEGORY    1155 non-null   object        \n",
      " 3   START       1155 non-null   object        \n",
      " 4   STOP        1155 non-null   object        \n",
      " 5   MILES       1156 non-null   float64       \n",
      " 6   PURPOSE     653 non-null    object        \n",
      "dtypes: datetime64[ns](2), float64(1), object(4)\n",
      "memory usage: 63.3+ KB\n"
     ]
    }
   ],
   "source": [
    "Uber.info()"
   ]
  },
  {
   "cell_type": "code",
   "execution_count": 17,
   "id": "44f769ba-077c-4bfb-b863-8d8d08d2c163",
   "metadata": {},
   "outputs": [],
   "source": [
    "from datetime import datetime\n",
    "\n",
    "# Splitting date and time from 'START_DATE' column\n",
    "Uber[\"DATE\"] = pd.DatetimeIndex(Uber[\"START_DATE\"]).date\n",
    "Uber[\"TIME\"] = pd.DatetimeIndex(Uber[\"START_DATE\"]).time\n"
   ]
  },
  {
   "cell_type": "code",
   "execution_count": 19,
   "id": "d3676dee-d68c-4d4e-89a2-2fdbeb139312",
   "metadata": {},
   "outputs": [
    {
     "data": {
      "text/html": [
       "<div>\n",
       "<style scoped>\n",
       "    .dataframe tbody tr th:only-of-type {\n",
       "        vertical-align: middle;\n",
       "    }\n",
       "\n",
       "    .dataframe tbody tr th {\n",
       "        vertical-align: top;\n",
       "    }\n",
       "\n",
       "    .dataframe thead th {\n",
       "        text-align: right;\n",
       "    }\n",
       "</style>\n",
       "<table border=\"1\" class=\"dataframe\">\n",
       "  <thead>\n",
       "    <tr style=\"text-align: right;\">\n",
       "      <th></th>\n",
       "      <th>START_DATE</th>\n",
       "      <th>END_DATE</th>\n",
       "      <th>CATEGORY</th>\n",
       "      <th>START</th>\n",
       "      <th>STOP</th>\n",
       "      <th>MILES</th>\n",
       "      <th>PURPOSE</th>\n",
       "      <th>DATE</th>\n",
       "      <th>TIME</th>\n",
       "    </tr>\n",
       "  </thead>\n",
       "  <tbody>\n",
       "    <tr>\n",
       "      <th>0</th>\n",
       "      <td>2016-02-25 04:26:00</td>\n",
       "      <td>2016-02-03 00:32:00</td>\n",
       "      <td>Business</td>\n",
       "      <td>San Francisco</td>\n",
       "      <td>Los Angeles</td>\n",
       "      <td>45.15</td>\n",
       "      <td>Errand</td>\n",
       "      <td>2016-02-25</td>\n",
       "      <td>04:26:00</td>\n",
       "    </tr>\n",
       "    <tr>\n",
       "      <th>1</th>\n",
       "      <td>2016-12-22 07:30:00</td>\n",
       "      <td>NaT</td>\n",
       "      <td>Personal</td>\n",
       "      <td>Chicago</td>\n",
       "      <td>Boston</td>\n",
       "      <td>41.70</td>\n",
       "      <td>Other</td>\n",
       "      <td>2016-12-22</td>\n",
       "      <td>07:30:00</td>\n",
       "    </tr>\n",
       "    <tr>\n",
       "      <th>2</th>\n",
       "      <td>2016-07-16 07:36:00</td>\n",
       "      <td>NaT</td>\n",
       "      <td>Business</td>\n",
       "      <td>San Francisco</td>\n",
       "      <td>New York</td>\n",
       "      <td>36.51</td>\n",
       "      <td>Meeting</td>\n",
       "      <td>2016-07-16</td>\n",
       "      <td>07:36:00</td>\n",
       "    </tr>\n",
       "    <tr>\n",
       "      <th>3</th>\n",
       "      <td>2016-12-13 23:24:00</td>\n",
       "      <td>NaT</td>\n",
       "      <td>Business</td>\n",
       "      <td>San Francisco</td>\n",
       "      <td>San Francisco</td>\n",
       "      <td>33.20</td>\n",
       "      <td>Meal</td>\n",
       "      <td>2016-12-13</td>\n",
       "      <td>23:24:00</td>\n",
       "    </tr>\n",
       "    <tr>\n",
       "      <th>4</th>\n",
       "      <td>2016-06-21 09:38:00</td>\n",
       "      <td>2016-06-06 05:12:00</td>\n",
       "      <td>Business</td>\n",
       "      <td>Boston</td>\n",
       "      <td>New York</td>\n",
       "      <td>10.99</td>\n",
       "      <td>Meal</td>\n",
       "      <td>2016-06-21</td>\n",
       "      <td>09:38:00</td>\n",
       "    </tr>\n",
       "    <tr>\n",
       "      <th>...</th>\n",
       "      <td>...</td>\n",
       "      <td>...</td>\n",
       "      <td>...</td>\n",
       "      <td>...</td>\n",
       "      <td>...</td>\n",
       "      <td>...</td>\n",
       "      <td>...</td>\n",
       "      <td>...</td>\n",
       "      <td>...</td>\n",
       "    </tr>\n",
       "    <tr>\n",
       "      <th>1151</th>\n",
       "      <td>2016-08-30 12:53:00</td>\n",
       "      <td>NaT</td>\n",
       "      <td>Personal</td>\n",
       "      <td>New York</td>\n",
       "      <td>Boston</td>\n",
       "      <td>29.82</td>\n",
       "      <td>NaN</td>\n",
       "      <td>2016-08-30</td>\n",
       "      <td>12:53:00</td>\n",
       "    </tr>\n",
       "    <tr>\n",
       "      <th>1152</th>\n",
       "      <td>2016-11-20 23:00:00</td>\n",
       "      <td>NaT</td>\n",
       "      <td>Personal</td>\n",
       "      <td>San Francisco</td>\n",
       "      <td>Los Angeles</td>\n",
       "      <td>29.45</td>\n",
       "      <td>NaN</td>\n",
       "      <td>2016-11-20</td>\n",
       "      <td>23:00:00</td>\n",
       "    </tr>\n",
       "    <tr>\n",
       "      <th>1153</th>\n",
       "      <td>2016-02-21 06:50:00</td>\n",
       "      <td>2016-07-09 19:43:00</td>\n",
       "      <td>Personal</td>\n",
       "      <td>Los Angeles</td>\n",
       "      <td>Chicago</td>\n",
       "      <td>36.73</td>\n",
       "      <td>NaN</td>\n",
       "      <td>2016-02-21</td>\n",
       "      <td>06:50:00</td>\n",
       "    </tr>\n",
       "    <tr>\n",
       "      <th>1154</th>\n",
       "      <td>2016-12-07 07:22:00</td>\n",
       "      <td>NaT</td>\n",
       "      <td>Personal</td>\n",
       "      <td>Chicago</td>\n",
       "      <td>Chicago</td>\n",
       "      <td>26.34</td>\n",
       "      <td>NaN</td>\n",
       "      <td>2016-12-07</td>\n",
       "      <td>07:22:00</td>\n",
       "    </tr>\n",
       "    <tr>\n",
       "      <th>1155</th>\n",
       "      <td>2016-09-15 01:29:00</td>\n",
       "      <td>2016-02-03 18:56:00</td>\n",
       "      <td>NaN</td>\n",
       "      <td>NaN</td>\n",
       "      <td>NaN</td>\n",
       "      <td>23.69</td>\n",
       "      <td>NaN</td>\n",
       "      <td>2016-09-15</td>\n",
       "      <td>01:29:00</td>\n",
       "    </tr>\n",
       "  </tbody>\n",
       "</table>\n",
       "<p>1156 rows × 9 columns</p>\n",
       "</div>"
      ],
      "text/plain": [
       "              START_DATE            END_DATE  CATEGORY          START  \\\n",
       "0    2016-02-25 04:26:00 2016-02-03 00:32:00  Business  San Francisco   \n",
       "1    2016-12-22 07:30:00                 NaT  Personal        Chicago   \n",
       "2    2016-07-16 07:36:00                 NaT  Business  San Francisco   \n",
       "3    2016-12-13 23:24:00                 NaT  Business  San Francisco   \n",
       "4    2016-06-21 09:38:00 2016-06-06 05:12:00  Business         Boston   \n",
       "...                  ...                 ...       ...            ...   \n",
       "1151 2016-08-30 12:53:00                 NaT  Personal       New York   \n",
       "1152 2016-11-20 23:00:00                 NaT  Personal  San Francisco   \n",
       "1153 2016-02-21 06:50:00 2016-07-09 19:43:00  Personal    Los Angeles   \n",
       "1154 2016-12-07 07:22:00                 NaT  Personal        Chicago   \n",
       "1155 2016-09-15 01:29:00 2016-02-03 18:56:00       NaN            NaN   \n",
       "\n",
       "               STOP  MILES  PURPOSE        DATE      TIME  \n",
       "0       Los Angeles  45.15   Errand  2016-02-25  04:26:00  \n",
       "1            Boston  41.70    Other  2016-12-22  07:30:00  \n",
       "2          New York  36.51  Meeting  2016-07-16  07:36:00  \n",
       "3     San Francisco  33.20     Meal  2016-12-13  23:24:00  \n",
       "4          New York  10.99     Meal  2016-06-21  09:38:00  \n",
       "...             ...    ...      ...         ...       ...  \n",
       "1151         Boston  29.82      NaN  2016-08-30  12:53:00  \n",
       "1152    Los Angeles  29.45      NaN  2016-11-20  23:00:00  \n",
       "1153        Chicago  36.73      NaN  2016-02-21  06:50:00  \n",
       "1154        Chicago  26.34      NaN  2016-12-07  07:22:00  \n",
       "1155            NaN  23.69      NaN  2016-09-15  01:29:00  \n",
       "\n",
       "[1156 rows x 9 columns]"
      ]
     },
     "execution_count": 19,
     "metadata": {},
     "output_type": "execute_result"
    }
   ],
   "source": [
    "Uber"
   ]
  },
  {
   "cell_type": "code",
   "execution_count": 54,
   "id": "4c48bd47-5fdc-4328-bf80-395428c93e6b",
   "metadata": {},
   "outputs": [],
   "source": [
    "# First, convert 'TIME' column to hours (as float)\n",
    "Uber[\"HOURS\"] = Uber[\"START_DATE\"].dt.hour + Uber[\"START_DATE\"].dt.minute / 60\n",
    "\n",
    "# Then, apply pd.cut to categorize shifts\n",
    "Uber[\"SHIFT\"] = pd.cut(Uber[\"HOURS\"], bins=[0, 10, 15, 19, 24], labels=[\"MORNING\", \"AFTERNOON\", \"EVENING\", \"NIGHT\"], right=False)\n"
   ]
  },
  {
   "cell_type": "code",
   "execution_count": 58,
   "id": "0db554bf-d116-4eec-bf8f-dfdc9fd607c6",
   "metadata": {},
   "outputs": [
    {
     "data": {
      "text/html": [
       "<div>\n",
       "<style scoped>\n",
       "    .dataframe tbody tr th:only-of-type {\n",
       "        vertical-align: middle;\n",
       "    }\n",
       "\n",
       "    .dataframe tbody tr th {\n",
       "        vertical-align: top;\n",
       "    }\n",
       "\n",
       "    .dataframe thead th {\n",
       "        text-align: right;\n",
       "    }\n",
       "</style>\n",
       "<table border=\"1\" class=\"dataframe\">\n",
       "  <thead>\n",
       "    <tr style=\"text-align: right;\">\n",
       "      <th></th>\n",
       "      <th>START_DATE</th>\n",
       "      <th>END_DATE</th>\n",
       "      <th>CATEGORY</th>\n",
       "      <th>START</th>\n",
       "      <th>STOP</th>\n",
       "      <th>MILES</th>\n",
       "      <th>PURPOSE</th>\n",
       "      <th>DATE</th>\n",
       "      <th>TIME</th>\n",
       "      <th>HOURS</th>\n",
       "      <th>SHIFT</th>\n",
       "    </tr>\n",
       "  </thead>\n",
       "  <tbody>\n",
       "    <tr>\n",
       "      <th>0</th>\n",
       "      <td>2016-02-25 04:26:00</td>\n",
       "      <td>2016-02-03 00:32:00</td>\n",
       "      <td>Business</td>\n",
       "      <td>San Francisco</td>\n",
       "      <td>Los Angeles</td>\n",
       "      <td>45.15</td>\n",
       "      <td>Errand</td>\n",
       "      <td>2016-02-25</td>\n",
       "      <td>04:26:00</td>\n",
       "      <td>4.433333</td>\n",
       "      <td>MORNING</td>\n",
       "    </tr>\n",
       "    <tr>\n",
       "      <th>4</th>\n",
       "      <td>2016-06-21 09:38:00</td>\n",
       "      <td>2016-06-06 05:12:00</td>\n",
       "      <td>Business</td>\n",
       "      <td>Boston</td>\n",
       "      <td>New York</td>\n",
       "      <td>10.99</td>\n",
       "      <td>Meal</td>\n",
       "      <td>2016-06-21</td>\n",
       "      <td>09:38:00</td>\n",
       "      <td>9.633333</td>\n",
       "      <td>MORNING</td>\n",
       "    </tr>\n",
       "    <tr>\n",
       "      <th>6</th>\n",
       "      <td>2016-12-13 12:49:00</td>\n",
       "      <td>2016-07-05 10:24:00</td>\n",
       "      <td>Business</td>\n",
       "      <td>Chicago</td>\n",
       "      <td>Boston</td>\n",
       "      <td>19.68</td>\n",
       "      <td>Meal</td>\n",
       "      <td>2016-12-13</td>\n",
       "      <td>12:49:00</td>\n",
       "      <td>12.816667</td>\n",
       "      <td>AFTERNOON</td>\n",
       "    </tr>\n",
       "    <tr>\n",
       "      <th>9</th>\n",
       "      <td>2016-01-26 18:03:00</td>\n",
       "      <td>2016-05-12 09:38:00</td>\n",
       "      <td>Personal</td>\n",
       "      <td>Chicago</td>\n",
       "      <td>Chicago</td>\n",
       "      <td>28.47</td>\n",
       "      <td>Customer Visit</td>\n",
       "      <td>2016-01-26</td>\n",
       "      <td>18:03:00</td>\n",
       "      <td>18.050000</td>\n",
       "      <td>EVENING</td>\n",
       "    </tr>\n",
       "    <tr>\n",
       "      <th>10</th>\n",
       "      <td>2016-03-14 01:38:00</td>\n",
       "      <td>2016-06-09 19:43:00</td>\n",
       "      <td>Business</td>\n",
       "      <td>San Francisco</td>\n",
       "      <td>New York</td>\n",
       "      <td>20.22</td>\n",
       "      <td>Meal</td>\n",
       "      <td>2016-03-14</td>\n",
       "      <td>01:38:00</td>\n",
       "      <td>1.633333</td>\n",
       "      <td>MORNING</td>\n",
       "    </tr>\n",
       "    <tr>\n",
       "      <th>...</th>\n",
       "      <td>...</td>\n",
       "      <td>...</td>\n",
       "      <td>...</td>\n",
       "      <td>...</td>\n",
       "      <td>...</td>\n",
       "      <td>...</td>\n",
       "      <td>...</td>\n",
       "      <td>...</td>\n",
       "      <td>...</td>\n",
       "      <td>...</td>\n",
       "      <td>...</td>\n",
       "    </tr>\n",
       "    <tr>\n",
       "      <th>633</th>\n",
       "      <td>2016-02-21 07:18:00</td>\n",
       "      <td>2016-11-08 12:17:00</td>\n",
       "      <td>Personal</td>\n",
       "      <td>Chicago</td>\n",
       "      <td>Boston</td>\n",
       "      <td>7.39</td>\n",
       "      <td>Customer Visit</td>\n",
       "      <td>2016-02-21</td>\n",
       "      <td>07:18:00</td>\n",
       "      <td>7.300000</td>\n",
       "      <td>MORNING</td>\n",
       "    </tr>\n",
       "    <tr>\n",
       "      <th>639</th>\n",
       "      <td>2016-07-15 14:04:00</td>\n",
       "      <td>2016-11-02 00:12:00</td>\n",
       "      <td>Personal</td>\n",
       "      <td>San Francisco</td>\n",
       "      <td>San Francisco</td>\n",
       "      <td>9.02</td>\n",
       "      <td>Errand</td>\n",
       "      <td>2016-07-15</td>\n",
       "      <td>14:04:00</td>\n",
       "      <td>14.066667</td>\n",
       "      <td>AFTERNOON</td>\n",
       "    </tr>\n",
       "    <tr>\n",
       "      <th>645</th>\n",
       "      <td>2016-07-21 22:18:00</td>\n",
       "      <td>2016-06-08 15:35:00</td>\n",
       "      <td>Personal</td>\n",
       "      <td>New York</td>\n",
       "      <td>San Francisco</td>\n",
       "      <td>33.09</td>\n",
       "      <td>Errand</td>\n",
       "      <td>2016-07-21</td>\n",
       "      <td>22:18:00</td>\n",
       "      <td>22.300000</td>\n",
       "      <td>NIGHT</td>\n",
       "    </tr>\n",
       "    <tr>\n",
       "      <th>648</th>\n",
       "      <td>2016-02-01 16:47:00</td>\n",
       "      <td>2016-01-06 18:19:00</td>\n",
       "      <td>Personal</td>\n",
       "      <td>Chicago</td>\n",
       "      <td>New York</td>\n",
       "      <td>42.64</td>\n",
       "      <td>Meal</td>\n",
       "      <td>2016-02-01</td>\n",
       "      <td>16:47:00</td>\n",
       "      <td>16.783333</td>\n",
       "      <td>EVENING</td>\n",
       "    </tr>\n",
       "    <tr>\n",
       "      <th>652</th>\n",
       "      <td>2016-07-27 18:23:00</td>\n",
       "      <td>2016-12-07 15:43:00</td>\n",
       "      <td>Personal</td>\n",
       "      <td>San Francisco</td>\n",
       "      <td>Chicago</td>\n",
       "      <td>9.08</td>\n",
       "      <td>Customer Visit</td>\n",
       "      <td>2016-07-27</td>\n",
       "      <td>18:23:00</td>\n",
       "      <td>18.383333</td>\n",
       "      <td>EVENING</td>\n",
       "    </tr>\n",
       "  </tbody>\n",
       "</table>\n",
       "<p>246 rows × 11 columns</p>\n",
       "</div>"
      ],
      "text/plain": [
       "             START_DATE            END_DATE  CATEGORY          START  \\\n",
       "0   2016-02-25 04:26:00 2016-02-03 00:32:00  Business  San Francisco   \n",
       "4   2016-06-21 09:38:00 2016-06-06 05:12:00  Business         Boston   \n",
       "6   2016-12-13 12:49:00 2016-07-05 10:24:00  Business        Chicago   \n",
       "9   2016-01-26 18:03:00 2016-05-12 09:38:00  Personal        Chicago   \n",
       "10  2016-03-14 01:38:00 2016-06-09 19:43:00  Business  San Francisco   \n",
       "..                  ...                 ...       ...            ...   \n",
       "633 2016-02-21 07:18:00 2016-11-08 12:17:00  Personal        Chicago   \n",
       "639 2016-07-15 14:04:00 2016-11-02 00:12:00  Personal  San Francisco   \n",
       "645 2016-07-21 22:18:00 2016-06-08 15:35:00  Personal       New York   \n",
       "648 2016-02-01 16:47:00 2016-01-06 18:19:00  Personal        Chicago   \n",
       "652 2016-07-27 18:23:00 2016-12-07 15:43:00  Personal  San Francisco   \n",
       "\n",
       "              STOP  MILES         PURPOSE        DATE      TIME      HOURS  \\\n",
       "0      Los Angeles  45.15          Errand  2016-02-25  04:26:00   4.433333   \n",
       "4         New York  10.99            Meal  2016-06-21  09:38:00   9.633333   \n",
       "6           Boston  19.68            Meal  2016-12-13  12:49:00  12.816667   \n",
       "9          Chicago  28.47  Customer Visit  2016-01-26  18:03:00  18.050000   \n",
       "10        New York  20.22            Meal  2016-03-14  01:38:00   1.633333   \n",
       "..             ...    ...             ...         ...       ...        ...   \n",
       "633         Boston   7.39  Customer Visit  2016-02-21  07:18:00   7.300000   \n",
       "639  San Francisco   9.02          Errand  2016-07-15  14:04:00  14.066667   \n",
       "645  San Francisco  33.09          Errand  2016-07-21  22:18:00  22.300000   \n",
       "648       New York  42.64            Meal  2016-02-01  16:47:00  16.783333   \n",
       "652        Chicago   9.08  Customer Visit  2016-07-27  18:23:00  18.383333   \n",
       "\n",
       "         SHIFT  \n",
       "0      MORNING  \n",
       "4      MORNING  \n",
       "6    AFTERNOON  \n",
       "9      EVENING  \n",
       "10     MORNING  \n",
       "..         ...  \n",
       "633    MORNING  \n",
       "639  AFTERNOON  \n",
       "645      NIGHT  \n",
       "648    EVENING  \n",
       "652    EVENING  \n",
       "\n",
       "[246 rows x 11 columns]"
      ]
     },
     "execution_count": 58,
     "metadata": {},
     "output_type": "execute_result"
    }
   ],
   "source": [
    "Uber"
   ]
  },
  {
   "cell_type": "code",
   "execution_count": 29,
   "id": "4935c620-8173-4368-8e3a-7ee79f99a604",
   "metadata": {},
   "outputs": [],
   "source": [
    "# here we are removing null values\n",
    "Uber.dropna(inplace=True)"
   ]
  },
  {
   "cell_type": "code",
   "execution_count": 31,
   "id": "8ea3ba7c-3a6f-4afe-80da-f26de5aa0441",
   "metadata": {},
   "outputs": [
    {
     "data": {
      "text/plain": [
       "(246, 11)"
      ]
     },
     "execution_count": 31,
     "metadata": {},
     "output_type": "execute_result"
    }
   ],
   "source": [
    "Uber.shape"
   ]
  },
  {
   "cell_type": "markdown",
   "id": "9a48fafa-ceee-4d9d-bb6e-434c0d6aa54f",
   "metadata": {},
   "source": [
    "# in which category does the people book most rides"
   ]
  },
  {
   "cell_type": "code",
   "execution_count": 36,
   "id": "c2f44e8c-982a-46ad-8565-d830b40e7977",
   "metadata": {},
   "outputs": [
    {
     "data": {
      "text/plain": [
       "CATEGORY\n",
       "Business    133\n",
       "Personal    113\n",
       "Name: count, dtype: int64"
      ]
     },
     "execution_count": 36,
     "metadata": {},
     "output_type": "execute_result"
    }
   ],
   "source": [
    "Uber[\"CATEGORY\"].value_counts()"
   ]
  },
  {
   "cell_type": "code",
   "execution_count": 50,
   "id": "aefabce4-1b11-4377-a0a9-14955e3fde7c",
   "metadata": {},
   "outputs": [
    {
     "data": {
      "image/png": "[encoded data removed]",
      "text/plain": [
       "<Figure size 800x600 with 1 Axes>"
      ]
     },
     "metadata": {},
     "output_type": "display_data"
    }
   ],
   "source": [
    "import matplotlib.pyplot as plt\n",
    "\n",
    "# Count the number of rides in each category\n",
    "category_counts = Uber[\"CATEGORY\"].value_counts()\n",
    "\n",
    "# Plotting with Matplotlib\n",
    "plt.figure(figsize=(8, 6))\n",
    "plt.bar(category_counts.index, category_counts.values, color='skyblue')\n",
    "plt.title('Number of Rides Booked by Category')\n",
    "plt.xlabel('Category')\n",
    "plt.ylabel('Number of Rides')\n",
    "plt.xticks(rotation=360)\n",
    "plt.show()\n"
   ]
  },
  {
   "cell_type": "markdown",
   "id": "053d4b2c-e638-49ec-942d-b2f835ad8151",
   "metadata": {},
   "source": [
    "\n",
    "\n",
    "**\"For which purpose do people book Uber rides the most?\"**"
   ]
  },
  {
   "cell_type": "code",
   "execution_count": 61,
   "id": "d7fee130-ad6e-4b55-a25d-79289f2e6e63",
   "metadata": {},
   "outputs": [
    {
     "data": {
      "text/plain": [
       "PURPOSE\n",
       "Errand            54\n",
       "Meal              53\n",
       "Customer Visit    51\n",
       "Other             45\n",
       "Meeting           43\n",
       "Name: count, dtype: int64"
      ]
     },
     "execution_count": 61,
     "metadata": {},
     "output_type": "execute_result"
    }
   ],
   "source": [
    "Uber[\"PURPOSE\"].value_counts()"
   ]
  },
  {
   "cell_type": "code",
   "execution_count": 65,
   "id": "0f7966b6-d3b3-405c-a203-418a48d8fe85",
   "metadata": {},
   "outputs": [
    {
     "name": "stderr",
     "output_type": "stream",
     "text": [
      "C:\\Users\\ASUS\\AppData\\Local\\Temp\\ipykernel_18308\\336832823.py:9: FutureWarning: \n",
      "\n",
      "Passing `palette` without assigning `hue` is deprecated and will be removed in v0.14.0. Assign the `x` variable to `hue` and set `legend=False` for the same effect.\n",
      "\n",
      "  sns.barplot(x=purpose_counts.index, y=purpose_counts.values, palette=\"coolwarm\")\n"
     ]
    },
    {
     "data": {
      "image/png": "[encoded data removed]",
      "text/plain": [
       "<Figure size 800x600 with 1 Axes>"
      ]
     },
     "metadata": {},
     "output_type": "display_data"
    }
   ],
   "source": [
    "import matplotlib.pyplot as plt\n",
    "import seaborn as sns\n",
    "\n",
    "# Get the counts of each purpose\n",
    "purpose_counts = Uber[\"PURPOSE\"].value_counts()\n",
    "\n",
    "# Plotting with Seaborn\n",
    "plt.figure(figsize=(8, 6))\n",
    "sns.barplot(x=purpose_counts.index, y=purpose_counts.values, palette=\"coolwarm\")\n",
    "plt.title('Most Common Purposes for Booking Uber Rides')\n",
    "plt.xlabel('Purpose')\n",
    "plt.ylabel('Number of Rides')\n",
    "plt.xticks(rotation=360)\n",
    "plt.show()\n"
   ]
  },
  {
   "cell_type": "markdown",
   "id": "2385cffe-730e-43b4-a3c3-e7fa48cd4224",
   "metadata": {},
   "source": [
    "**\"At what time do people book Uber cabs the most?\"**"
   ]
  },
  {
   "cell_type": "code",
   "execution_count": 74,
   "id": "baa8a1af-ce13-4455-a21f-a2ba8520a00a",
   "metadata": {},
   "outputs": [
    {
     "data": {
      "text/plain": [
       "SHIFT\n",
       "MORNING      94\n",
       "AFTERNOON    58\n",
       "EVENING      50\n",
       "NIGHT        44\n",
       "Name: count, dtype: int64"
      ]
     },
     "execution_count": 74,
     "metadata": {},
     "output_type": "execute_result"
    }
   ],
   "source": [
    "Uber[\"SHIFT\"].value_counts()\n"
   ]
  },
  {
   "cell_type": "code",
   "execution_count": 80,
   "id": "323a0c7c-9d2f-42c8-a726-984397b476f2",
   "metadata": {},
   "outputs": [
    {
     "name": "stderr",
     "output_type": "stream",
     "text": [
      "C:\\Users\\ASUS\\AppData\\Local\\Temp\\ipykernel_18308\\1856497741.py:9: FutureWarning: \n",
      "\n",
      "Passing `palette` without assigning `hue` is deprecated and will be removed in v0.14.0. Assign the `x` variable to `hue` and set `legend=False` for the same effect.\n",
      "\n",
      "  sns.barplot(x=shift_counts.index, y=shift_counts.values, palette=\"Spectral\")\n"
     ]
    },
    {
     "data": {
      "image/png": "[encoded data removed]",
      "text/plain": [
       "<Figure size 800x600 with 1 Axes>"
      ]
     },
     "metadata": {},
     "output_type": "display_data"
    }
   ],
   "source": [
    "import seaborn as sns\n",
    "import matplotlib.pyplot as plt\n",
    "\n",
    "# Get value counts\n",
    "shift_counts = Uber[\"SHIFT\"].value_counts()\n",
    "\n",
    "# Plot with Seaborn\n",
    "plt.figure(figsize=(8, 6))\n",
    "sns.barplot(x=shift_counts.index, y=shift_counts.values, palette=\"Spectral\")\n",
    "plt.title('Number of Uber Rides by Shift')\n",
    "plt.xlabel('Shift')\n",
    "plt.ylabel('Number of Rides')\n",
    "plt.xticks(rotation=360)\n",
    "plt.show()\n"
   ]
  },
  {
   "cell_type": "markdown",
   "id": "4d8a6ea4-22d9-4aa6-8274-782bb8186c8a",
   "metadata": {},
   "source": [
    "# In which month do people book Uber rides less frequently"
   ]
  },
  {
   "cell_type": "code",
   "execution_count": 18,
   "id": "125e6c3d-8199-4e63-bf17-06f3c2168a1b",
   "metadata": {},
   "outputs": [
    {
     "name": "stdout",
     "output_type": "stream",
     "text": [
      "month\n",
      "Feb     79\n",
      "Dec     84\n",
      "Jul     97\n",
      "Jun    110\n",
      "Oct    106\n",
      "Jan     94\n",
      "Mar     89\n",
      "Sep    104\n",
      "Aug    102\n",
      "Nov     92\n",
      "Apr    101\n",
      "May     98\n",
      "Name: count, dtype: int64\n"
     ]
    }
   ],
   "source": [
    "Uber[\"MONTH\"] = pd.DatetimeIndex(Uber[\"START_DATE\"]).month  # Extract the month from the START_DATE column\n",
    "\n",
    "# Define the mapping of month numbers to month names\n",
    "month_label = {1: \"Jan\", 2: \"Feb\", 3: \"Mar\", 4: \"Apr\", 5: \"May\", 6: \"Jun\", 7: \"Jul\", \n",
    "               8: \"Aug\", 9: \"Sep\", 10: \"Oct\", 11: \"Nov\", 12: \"Dec\"}\n",
    "\n",
    "# Map the month numbers to their corresponding names\n",
    "Uber[\"month\"] = Uber[\"MONTH\"].map(month_label)\n",
    "\n",
    "# Count the occurrences of each month\n",
    "mon = Uber[\"month\"].value_counts(sort=False)\n",
    "\n",
    "print(mon)\n"
   ]
  },
  {
   "cell_type": "code",
   "execution_count": 16,
   "id": "d83b8e40-e372-41e7-9646-d969504bcdc4",
   "metadata": {},
   "outputs": [
    {
     "data": {
      "text/html": [
       "<div>\n",
       "<style scoped>\n",
       "    .dataframe tbody tr th:only-of-type {\n",
       "        vertical-align: middle;\n",
       "    }\n",
       "\n",
       "    .dataframe tbody tr th {\n",
       "        vertical-align: top;\n",
       "    }\n",
       "\n",
       "    .dataframe thead th {\n",
       "        text-align: right;\n",
       "    }\n",
       "</style>\n",
       "<table border=\"1\" class=\"dataframe\">\n",
       "  <thead>\n",
       "    <tr style=\"text-align: right;\">\n",
       "      <th></th>\n",
       "      <th>START_DATE</th>\n",
       "      <th>END_DATE</th>\n",
       "      <th>CATEGORY</th>\n",
       "      <th>START</th>\n",
       "      <th>STOP</th>\n",
       "      <th>MILES</th>\n",
       "      <th>PURPOSE</th>\n",
       "      <th>MONTH</th>\n",
       "      <th>month</th>\n",
       "    </tr>\n",
       "  </thead>\n",
       "  <tbody>\n",
       "    <tr>\n",
       "      <th>0</th>\n",
       "      <td>25-02-2016 04:26</td>\n",
       "      <td>02-03-2016 00:32</td>\n",
       "      <td>Business</td>\n",
       "      <td>San Francisco</td>\n",
       "      <td>Los Angeles</td>\n",
       "      <td>45.15</td>\n",
       "      <td>Errand</td>\n",
       "      <td>2</td>\n",
       "      <td>Feb</td>\n",
       "    </tr>\n",
       "    <tr>\n",
       "      <th>1</th>\n",
       "      <td>22-12-2016 07:30</td>\n",
       "      <td>28-03-2016 05:07</td>\n",
       "      <td>Personal</td>\n",
       "      <td>Chicago</td>\n",
       "      <td>Boston</td>\n",
       "      <td>41.70</td>\n",
       "      <td>Other</td>\n",
       "      <td>12</td>\n",
       "      <td>Dec</td>\n",
       "    </tr>\n",
       "    <tr>\n",
       "      <th>2</th>\n",
       "      <td>16-07-2016 07:36</td>\n",
       "      <td>22-03-2016 19:11</td>\n",
       "      <td>Business</td>\n",
       "      <td>San Francisco</td>\n",
       "      <td>New York</td>\n",
       "      <td>36.51</td>\n",
       "      <td>Meeting</td>\n",
       "      <td>7</td>\n",
       "      <td>Jul</td>\n",
       "    </tr>\n",
       "    <tr>\n",
       "      <th>3</th>\n",
       "      <td>13-12-2016 23:24</td>\n",
       "      <td>27-11-2016 09:12</td>\n",
       "      <td>Business</td>\n",
       "      <td>San Francisco</td>\n",
       "      <td>San Francisco</td>\n",
       "      <td>33.20</td>\n",
       "      <td>Meal</td>\n",
       "      <td>12</td>\n",
       "      <td>Dec</td>\n",
       "    </tr>\n",
       "    <tr>\n",
       "      <th>4</th>\n",
       "      <td>21-06-2016 09:38</td>\n",
       "      <td>06-06-2016 05:12</td>\n",
       "      <td>Business</td>\n",
       "      <td>Boston</td>\n",
       "      <td>New York</td>\n",
       "      <td>10.99</td>\n",
       "      <td>Meal</td>\n",
       "      <td>6</td>\n",
       "      <td>Jun</td>\n",
       "    </tr>\n",
       "  </tbody>\n",
       "</table>\n",
       "</div>"
      ],
      "text/plain": [
       "         START_DATE          END_DATE  CATEGORY          START           STOP  \\\n",
       "0  25-02-2016 04:26  02-03-2016 00:32  Business  San Francisco    Los Angeles   \n",
       "1  22-12-2016 07:30  28-03-2016 05:07  Personal        Chicago         Boston   \n",
       "2  16-07-2016 07:36  22-03-2016 19:11  Business  San Francisco       New York   \n",
       "3  13-12-2016 23:24  27-11-2016 09:12  Business  San Francisco  San Francisco   \n",
       "4  21-06-2016 09:38  06-06-2016 05:12  Business         Boston       New York   \n",
       "\n",
       "   MILES  PURPOSE  MONTH month  \n",
       "0  45.15   Errand      2   Feb  \n",
       "1  41.70    Other     12   Dec  \n",
       "2  36.51  Meeting      7   Jul  \n",
       "3  33.20     Meal     12   Dec  \n",
       "4  10.99     Meal      6   Jun  "
      ]
     },
     "execution_count": 16,
     "metadata": {},
     "output_type": "execute_result"
    }
   ],
   "source": [
    "Uber.head()"
   ]
  },
  {
   "cell_type": "code",
   "execution_count": 20,
   "id": "38125abb-3437-48a6-acb9-cf183664d42c",
   "metadata": {},
   "outputs": [
    {
     "name": "stderr",
     "output_type": "stream",
     "text": [
      "C:\\Users\\ASUS\\AppData\\Local\\Temp\\ipykernel_20872\\3333013470.py:11: FutureWarning: \n",
      "\n",
      "Passing `palette` without assigning `hue` is deprecated and will be removed in v0.14.0. Assign the `x` variable to `hue` and set `legend=False` for the same effect.\n",
      "\n",
      "  sns.barplot(x=mon.index, y=mon.values, palette=\"viridis\")\n"
     ]
    },
    {
     "data": {
      "image/png": "[encoded data removed]",
      "text/plain": [
       "<Figure size 1000x600 with 1 Axes>"
      ]
     },
     "metadata": {},
     "output_type": "display_data"
    }
   ],
   "source": [
    "import matplotlib.pyplot as plt\n",
    "import seaborn as sns\n",
    "\n",
    "# Set the style for seaborn\n",
    "sns.set(style=\"whitegrid\")\n",
    "\n",
    "# Create a figure and axis\n",
    "plt.figure(figsize=(10, 6))\n",
    "\n",
    "# Plot the month counts using Seaborn\n",
    "sns.barplot(x=mon.index, y=mon.values, palette=\"viridis\")\n",
    "\n",
    "# Set the labels and title\n",
    "plt.xlabel(\"Month\")\n",
    "plt.ylabel(\"Number of Uber Rides\")\n",
    "plt.title(\"Number of Uber Rides per Month\")\n",
    "\n",
    "# Show the plot\n",
    "plt.show()\n"
   ]
  },
  {
   "cell_type": "markdown",
   "id": "d014d2c5-3806-442e-b45a-028fa1da8d0f",
   "metadata": {},
   "source": [
    "# on which day of week do people book uber rides the most"
   ]
  },
  {
   "cell_type": "code",
   "execution_count": 21,
   "id": "69db4524-0a4b-4ff8-afb2-babfe70f71b2",
   "metadata": {},
   "outputs": [
    {
     "name": "stdout",
     "output_type": "stream",
     "text": [
      "Day\n",
      "Fri    183\n",
      "Thu    173\n",
      "Sun    166\n",
      "Wed    166\n",
      "Tue    159\n",
      "Sat    156\n",
      "Mon    153\n",
      "Name: count, dtype: int64\n"
     ]
    },
    {
     "name": "stderr",
     "output_type": "stream",
     "text": [
      "C:\\Users\\ASUS\\AppData\\Local\\Temp\\ipykernel_644\\2179816891.py:2: UserWarning: Parsing dates in %d-%m-%Y %H:%M format when dayfirst=False (the default) was specified. Pass `dayfirst=True` or specify a format to silence this warning.\n",
      "  Uber['Day'] = pd.to_datetime(Uber[\"START_DATE\"]).dt.dayofweek\n"
     ]
    }
   ],
   "source": [
    "# Extract the day of the week (Monday=0, Sunday=6)\n",
    "Uber['Day'] = pd.to_datetime(Uber[\"START_DATE\"]).dt.dayofweek\n",
    "\n",
    "# Create a mapping for day labels\n",
    "day_label = {0: \"Mon\", 1: \"Tue\", 2: \"Wed\", 3: \"Thu\", 4: \"Fri\", 5: \"Sat\", 6: \"Sun\"}\n",
    "\n",
    "# Map the day of the week to day names\n",
    "Uber[\"Day\"] = Uber[\"Day\"].map(day_label)\n",
    "\n",
    "# Count the occurrences of each day\n",
    "day = Uber[\"Day\"].value_counts()\n",
    "\n",
    "print(day)\n"
   ]
  },
  {
   "cell_type": "code",
   "execution_count": 17,
   "id": "0f60d3e2-1f94-41b9-8f12-135e85f88419",
   "metadata": {},
   "outputs": [
    {
     "data": {
      "text/html": [
       "<div>\n",
       "<style scoped>\n",
       "    .dataframe tbody tr th:only-of-type {\n",
       "        vertical-align: middle;\n",
       "    }\n",
       "\n",
       "    .dataframe tbody tr th {\n",
       "        vertical-align: top;\n",
       "    }\n",
       "\n",
       "    .dataframe thead th {\n",
       "        text-align: right;\n",
       "    }\n",
       "</style>\n",
       "<table border=\"1\" class=\"dataframe\">\n",
       "  <thead>\n",
       "    <tr style=\"text-align: right;\">\n",
       "      <th></th>\n",
       "      <th>START_DATE</th>\n",
       "      <th>END_DATE</th>\n",
       "      <th>CATEGORY</th>\n",
       "      <th>START</th>\n",
       "      <th>STOP</th>\n",
       "      <th>MILES</th>\n",
       "      <th>PURPOSE</th>\n",
       "    </tr>\n",
       "  </thead>\n",
       "  <tbody>\n",
       "    <tr>\n",
       "      <th>0</th>\n",
       "      <td>25-02-2016 04:26</td>\n",
       "      <td>02-03-2016 00:32</td>\n",
       "      <td>Business</td>\n",
       "      <td>San Francisco</td>\n",
       "      <td>Los Angeles</td>\n",
       "      <td>45.15</td>\n",
       "      <td>Errand</td>\n",
       "    </tr>\n",
       "    <tr>\n",
       "      <th>1</th>\n",
       "      <td>22-12-2016 07:30</td>\n",
       "      <td>28-03-2016 05:07</td>\n",
       "      <td>Personal</td>\n",
       "      <td>Chicago</td>\n",
       "      <td>Boston</td>\n",
       "      <td>41.70</td>\n",
       "      <td>Other</td>\n",
       "    </tr>\n",
       "    <tr>\n",
       "      <th>2</th>\n",
       "      <td>16-07-2016 07:36</td>\n",
       "      <td>22-03-2016 19:11</td>\n",
       "      <td>Business</td>\n",
       "      <td>San Francisco</td>\n",
       "      <td>New York</td>\n",
       "      <td>36.51</td>\n",
       "      <td>Meeting</td>\n",
       "    </tr>\n",
       "    <tr>\n",
       "      <th>3</th>\n",
       "      <td>13-12-2016 23:24</td>\n",
       "      <td>27-11-2016 09:12</td>\n",
       "      <td>Business</td>\n",
       "      <td>San Francisco</td>\n",
       "      <td>San Francisco</td>\n",
       "      <td>33.20</td>\n",
       "      <td>Meal</td>\n",
       "    </tr>\n",
       "    <tr>\n",
       "      <th>4</th>\n",
       "      <td>21-06-2016 09:38</td>\n",
       "      <td>06-06-2016 05:12</td>\n",
       "      <td>Business</td>\n",
       "      <td>Boston</td>\n",
       "      <td>New York</td>\n",
       "      <td>10.99</td>\n",
       "      <td>Meal</td>\n",
       "    </tr>\n",
       "  </tbody>\n",
       "</table>\n",
       "</div>"
      ],
      "text/plain": [
       "         START_DATE          END_DATE  CATEGORY          START           STOP  \\\n",
       "0  25-02-2016 04:26  02-03-2016 00:32  Business  San Francisco    Los Angeles   \n",
       "1  22-12-2016 07:30  28-03-2016 05:07  Personal        Chicago         Boston   \n",
       "2  16-07-2016 07:36  22-03-2016 19:11  Business  San Francisco       New York   \n",
       "3  13-12-2016 23:24  27-11-2016 09:12  Business  San Francisco  San Francisco   \n",
       "4  21-06-2016 09:38  06-06-2016 05:12  Business         Boston       New York   \n",
       "\n",
       "   MILES  PURPOSE  \n",
       "0  45.15   Errand  \n",
       "1  41.70    Other  \n",
       "2  36.51  Meeting  \n",
       "3  33.20     Meal  \n",
       "4  10.99     Meal  "
      ]
     },
     "execution_count": 17,
     "metadata": {},
     "output_type": "execute_result"
    }
   ],
   "source": [
    "Uber.head()"
   ]
  },
  {
   "cell_type": "code",
   "execution_count": 23,
   "id": "c2a29dcd-6535-455e-add0-6d607ef8e747",
   "metadata": {},
   "outputs": [
    {
     "name": "stderr",
     "output_type": "stream",
     "text": [
      "C:\\Users\\ASUS\\AppData\\Local\\Temp\\ipykernel_644\\2987093493.py:11: FutureWarning: \n",
      "\n",
      "Passing `palette` without assigning `hue` is deprecated and will be removed in v0.14.0. Assign the `x` variable to `hue` and set `legend=False` for the same effect.\n",
      "\n",
      "  sns.barplot(x=day.index, y=day.values, palette=\"coolwarm\")\n"
     ]
    },
    {
     "data": {
      "image/png": "[encoded data removed]",
      "text/plain": [
       "<Figure size 1000x600 with 1 Axes>"
      ]
     },
     "metadata": {},
     "output_type": "display_data"
    }
   ],
   "source": [
    "import matplotlib.pyplot as plt\n",
    "import seaborn as sns\n",
    "\n",
    "# Set the style for seaborn\n",
    "sns.set(style=\"whitegrid\")\n",
    "\n",
    "# Create a figure and axis\n",
    "plt.figure(figsize=(10, 6))\n",
    "\n",
    "# Plot the day counts using Seaborn\n",
    "sns.barplot(x=day.index, y=day.values, palette=\"coolwarm\")\n",
    "\n",
    "# Set the labels and title\n",
    "plt.xlabel(\"Day of the Week\")\n",
    "plt.ylabel(\"Number of Uber Rides\")\n",
    "plt.title(\"Number of Uber Rides by Day of the Week\")\n",
    "\n",
    "# Show the plot\n",
    "plt.show()\n"
   ]
  },
  {
   "cell_type": "markdown",
   "id": "3018a209-31e9-4622-b996-f1f732927ecd",
   "metadata": {},
   "source": [
    "# how many miles do people usually book a cab through uber"
   ]
  },
  {
   "cell_type": "code",
   "execution_count": 8,
   "id": "27cbe9ff-1577-499b-ad4a-af16a76e4534",
   "metadata": {},
   "outputs": [
    {
     "data": {
      "text/html": [
       "<div>\n",
       "<style scoped>\n",
       "    .dataframe tbody tr th:only-of-type {\n",
       "        vertical-align: middle;\n",
       "    }\n",
       "\n",
       "    .dataframe tbody tr th {\n",
       "        vertical-align: top;\n",
       "    }\n",
       "\n",
       "    .dataframe thead th {\n",
       "        text-align: right;\n",
       "    }\n",
       "</style>\n",
       "<table border=\"1\" class=\"dataframe\">\n",
       "  <thead>\n",
       "    <tr style=\"text-align: right;\">\n",
       "      <th></th>\n",
       "      <th>START_DATE</th>\n",
       "      <th>END_DATE</th>\n",
       "      <th>CATEGORY</th>\n",
       "      <th>START</th>\n",
       "      <th>STOP</th>\n",
       "      <th>MILES</th>\n",
       "      <th>PURPOSE</th>\n",
       "    </tr>\n",
       "  </thead>\n",
       "  <tbody>\n",
       "    <tr>\n",
       "      <th>0</th>\n",
       "      <td>25-02-2016 04:26</td>\n",
       "      <td>02-03-2016 00:32</td>\n",
       "      <td>Business</td>\n",
       "      <td>San Francisco</td>\n",
       "      <td>Los Angeles</td>\n",
       "      <td>45.15</td>\n",
       "      <td>Errand</td>\n",
       "    </tr>\n",
       "    <tr>\n",
       "      <th>1</th>\n",
       "      <td>22-12-2016 07:30</td>\n",
       "      <td>28-03-2016 05:07</td>\n",
       "      <td>Personal</td>\n",
       "      <td>Chicago</td>\n",
       "      <td>Boston</td>\n",
       "      <td>41.70</td>\n",
       "      <td>Other</td>\n",
       "    </tr>\n",
       "    <tr>\n",
       "      <th>2</th>\n",
       "      <td>16-07-2016 07:36</td>\n",
       "      <td>22-03-2016 19:11</td>\n",
       "      <td>Business</td>\n",
       "      <td>San Francisco</td>\n",
       "      <td>New York</td>\n",
       "      <td>36.51</td>\n",
       "      <td>Meeting</td>\n",
       "    </tr>\n",
       "    <tr>\n",
       "      <th>3</th>\n",
       "      <td>13-12-2016 23:24</td>\n",
       "      <td>27-11-2016 09:12</td>\n",
       "      <td>Business</td>\n",
       "      <td>San Francisco</td>\n",
       "      <td>San Francisco</td>\n",
       "      <td>33.20</td>\n",
       "      <td>Meal</td>\n",
       "    </tr>\n",
       "    <tr>\n",
       "      <th>4</th>\n",
       "      <td>21-06-2016 09:38</td>\n",
       "      <td>06-06-2016 05:12</td>\n",
       "      <td>Business</td>\n",
       "      <td>Boston</td>\n",
       "      <td>New York</td>\n",
       "      <td>10.99</td>\n",
       "      <td>Meal</td>\n",
       "    </tr>\n",
       "  </tbody>\n",
       "</table>\n",
       "</div>"
      ],
      "text/plain": [
       "         START_DATE          END_DATE  CATEGORY          START           STOP  \\\n",
       "0  25-02-2016 04:26  02-03-2016 00:32  Business  San Francisco    Los Angeles   \n",
       "1  22-12-2016 07:30  28-03-2016 05:07  Personal        Chicago         Boston   \n",
       "2  16-07-2016 07:36  22-03-2016 19:11  Business  San Francisco       New York   \n",
       "3  13-12-2016 23:24  27-11-2016 09:12  Business  San Francisco  San Francisco   \n",
       "4  21-06-2016 09:38  06-06-2016 05:12  Business         Boston       New York   \n",
       "\n",
       "   MILES  PURPOSE  \n",
       "0  45.15   Errand  \n",
       "1  41.70    Other  \n",
       "2  36.51  Meeting  \n",
       "3  33.20     Meal  \n",
       "4  10.99     Meal  "
      ]
     },
     "execution_count": 8,
     "metadata": {},
     "output_type": "execute_result"
    }
   ],
   "source": [
    "Uber.head()"
   ]
  },
  {
   "cell_type": "code",
   "execution_count": 27,
   "id": "fe108f4a-701b-4f1a-9b8a-fcc7c2c7e42f",
   "metadata": {},
   "outputs": [
    {
     "data": {
      "image/png": "[encoded data removed]",
      "text/plain": [
       "<Figure size 1000x600 with 1 Axes>"
      ]
     },
     "metadata": {},
     "output_type": "display_data"
    }
   ],
   "source": [
    "import matplotlib.pyplot as plt\n",
    "import seaborn as sns\n",
    "\n",
    "# Set the style for seaborn\n",
    "sns.set(style=\"whitegrid\")\n",
    "\n",
    "# Create a figure and axis\n",
    "plt.figure(figsize=(10, 6))\n",
    "\n",
    "# Plot a histogram with Seaborn\n",
    "sns.histplot(Uber['MILES'], bins=20, kde=True, color=\"blue\")\n",
    "\n",
    "# Set the labels and title\n",
    "plt.xlabel(\"Miles\")\n",
    "plt.ylabel(\"Frequency\")\n",
    "plt.title(\"Distribution of Miles Booked in Uber Rides\")\n",
    "\n",
    "# Show the plot\n",
    "plt.show()\n"
   ]
  }
 ],
 "metadata": {
  "kernelspec": {
   "display_name": "Python 3 (ipykernel)",
   "language": "python",
   "name": "python3"
  },
  "language_info": {
   "codemirror_mode": {
    "name": "ipython",
    "version": 3
   },
   "file_extension": ".py",
   "mimetype": "text/x-python",
   "name": "python",
   "nbconvert_exporter": "python",
   "pygments_lexer": "ipython3",
   "version": "3.12.4"
  }
 },
 "nbformat": 4,
 "nbformat_minor": 5
}
